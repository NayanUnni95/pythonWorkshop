{
 "cells": [
  {
   "cell_type": "code",
   "execution_count": 1,
   "metadata": {},
   "outputs": [],
   "source": [
    "import numpy as np"
   ]
  },
  {
   "cell_type": "code",
   "execution_count": 11,
   "metadata": {},
   "outputs": [
    {
     "data": {
      "text/plain": [
       "(array([[8, 4, 8],\n",
       "        [7, 3, 4],\n",
       "        [8, 8, 9]]),\n",
       " array([[-0.31986508,  0.94427997,  1.11452152],\n",
       "        [-2.03525462,  2.68225206,  2.27105808],\n",
       "        [ 1.01602476,  0.36771242,  0.03698789]]),\n",
       " array([[0.45681989, 0.55232415, 0.87893965],\n",
       "        [0.96875259, 0.28927773, 0.9438072 ],\n",
       "        [0.05432367, 0.27892765, 0.67740517]]))"
      ]
     },
     "execution_count": 11,
     "metadata": {},
     "output_type": "execute_result"
    }
   ],
   "source": [
    "arr1 = np.random.randint(1, 10, (3, 3))\n",
    "arr2 = np.random.randn(3, 3)\n",
    "arr3 = np.random.rand(3, 3)\n",
    "arr1, arr2, arr3"
   ]
  }
 ],
 "metadata": {
  "kernelspec": {
   "display_name": "Python 3",
   "language": "python",
   "name": "python3"
  },
  "language_info": {
   "codemirror_mode": {
    "name": "ipython",
    "version": 3
   },
   "file_extension": ".py",
   "mimetype": "text/x-python",
   "name": "python",
   "nbconvert_exporter": "python",
   "pygments_lexer": "ipython3",
   "version": "3.12.3"
  }
 },
 "nbformat": 4,
 "nbformat_minor": 2
}
