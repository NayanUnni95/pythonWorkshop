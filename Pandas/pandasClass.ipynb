{
 "cells": [
  {
   "cell_type": "code",
   "execution_count": 2,
   "metadata": {},
   "outputs": [],
   "source": [
    "import pandas as pd"
   ]
  },
  {
   "cell_type": "code",
   "execution_count": 3,
   "metadata": {},
   "outputs": [],
   "source": [
    "data = pd.read_csv(\"spotify_millsongdata.csv\")\n",
    "# data.head()   First 5 rows\n",
    "# data.tail()   Last 5 rows\n",
    "# data.info() \n",
    "# data[\"song\"]\n",
    "# data.describe()\n",
    "# data.isnull()\n",
    "# data.dropna()\n",
    "# data.fillna(0)\n",
    "# data.groupby('song').mean('Bang')\n",
    "# pd.merge(pd1, pd2, on='key')\n",
    "# pd.plot()\n"
   ]
  }
 ],
 "metadata": {
  "kernelspec": {
   "display_name": "Python 3",
   "language": "python",
   "name": "python3"
  },
  "language_info": {
   "codemirror_mode": {
    "name": "ipython",
    "version": 3
   },
   "file_extension": ".py",
   "mimetype": "text/x-python",
   "name": "python",
   "nbconvert_exporter": "python",
   "pygments_lexer": "ipython3",
   "version": "3.12.3"
  }
 },
 "nbformat": 4,
 "nbformat_minor": 2
}
